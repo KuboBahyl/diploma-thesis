{
 "cells": [
  {
   "cell_type": "code",
   "execution_count": 24,
   "metadata": {
    "collapsed": true
   },
   "outputs": [],
   "source": [
    "import numpy as np\n",
    "import math"
   ]
  },
  {
   "cell_type": "code",
   "execution_count": 35,
   "metadata": {},
   "outputs": [
    {
     "name": "stdout",
     "output_type": "stream",
     "text": [
      "[ 0.57209363  0.34363502  0.75554007  0.40232424  0.03433319  0.73369862\n",
      "  0.37345607  0.46773827  0.45870419  0.69336891]\n",
      "[ 0.57209363  0.34363502  0.75554007  0.40232424  0.03433319  0.73369862\n",
      "  0.37345607  0.46773827  0.45870419  0.69336891]\n"
     ]
    }
   ],
   "source": [
    "segments = np.random.rand(10)\n",
    "N = len(segments)\n",
    "new_segments = segments\n",
    "print(segments)\n",
    "print(new_segments)\n",
    "segments = np.delete(segments, 0)"
   ]
  },
  {
   "cell_type": "code",
   "execution_count": 36,
   "metadata": {},
   "outputs": [
    {
     "data": {
      "text/plain": [
       "array([ 0.34363502,  0.75554007,  0.40232424,  0.03433319,  0.73369862,\n",
       "        0.37345607,  0.46773827,  0.45870419,  0.69336891])"
      ]
     },
     "execution_count": 36,
     "metadata": {},
     "output_type": "execute_result"
    }
   ],
   "source": [
    "segments"
   ]
  },
  {
   "cell_type": "code",
   "execution_count": 37,
   "metadata": {
    "collapsed": true
   },
   "outputs": [],
   "source": [
    "for i in range(N-1):\n",
    "    focus_item = new_segments[i]\n",
    "    mindist = math.inf\n",
    "\n",
    "    for item in segments:\n",
    "        dist = np.linalg.norm(focus_item - item)\n",
    "        if (dist < mindist):\n",
    "            mindist = dist\n",
    "            index = np.asscalar(np.argwhere(segments==item))\n",
    "            new_segments[i+1] = item\n",
    "\n",
    "    segments = np.delete(segments, index)"
   ]
  },
  {
   "cell_type": "code",
   "execution_count": 38,
   "metadata": {},
   "outputs": [
    {
     "data": {
      "text/plain": [
       "array([ 0.57209363,  0.46773827,  0.45870419,  0.40232424,  0.37345607,\n",
       "        0.34363502,  0.03433319,  0.69336891,  0.73369862,  0.75554007])"
      ]
     },
     "execution_count": 38,
     "metadata": {},
     "output_type": "execute_result"
    }
   ],
   "source": [
    "new_segments"
   ]
  },
  {
   "cell_type": "code",
   "execution_count": 33,
   "metadata": {},
   "outputs": [
    {
     "data": {
      "text/plain": [
       "array([], dtype=float64)"
      ]
     },
     "execution_count": 33,
     "metadata": {},
     "output_type": "execute_result"
    }
   ],
   "source": [
    "segments"
   ]
  },
  {
   "cell_type": "code",
   "execution_count": 27,
   "metadata": {},
   "outputs": [
    {
     "data": {
      "text/plain": [
       "0.80231634661970963"
      ]
     },
     "execution_count": 27,
     "metadata": {},
     "output_type": "execute_result"
    }
   ],
   "source": [
    "np.linalg.norm(new_segments[0] - segments[0])"
   ]
  },
  {
   "cell_type": "code",
   "execution_count": 29,
   "metadata": {},
   "outputs": [
    {
     "data": {
      "text/plain": [
       "True"
      ]
     },
     "execution_count": 29,
     "metadata": {},
     "output_type": "execute_result"
    }
   ],
   "source": [
    "math.inf > np.linalg.norm(new_segments[0] - segments[0])"
   ]
  },
  {
   "cell_type": "code",
   "execution_count": null,
   "metadata": {
    "collapsed": true
   },
   "outputs": [],
   "source": []
  }
 ],
 "metadata": {
  "kernelspec": {
   "display_name": "Python 3",
   "language": "python",
   "name": "python3"
  },
  "language_info": {
   "codemirror_mode": {
    "name": "ipython",
    "version": 3
   },
   "file_extension": ".py",
   "mimetype": "text/x-python",
   "name": "python",
   "nbconvert_exporter": "python",
   "pygments_lexer": "ipython3",
   "version": "3.6.2"
  }
 },
 "nbformat": 4,
 "nbformat_minor": 2
}
